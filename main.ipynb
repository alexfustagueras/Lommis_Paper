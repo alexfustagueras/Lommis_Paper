{
 "cells": [
  {
   "cell_type": "markdown",
   "metadata": {},
   "source": [
    "# Transfer of Airport Movement Data"
   ]
  },
  {
   "cell_type": "markdown",
   "metadata": {},
   "source": [
    "Notebook addressing the creation of an Excel file report for the \"Transfer of Airport Movement Data\" on Lommis Airfield.\n",
    "\n",
    "Template used in accordance with the one provided by the Federal Office of Civil Aviation (BAZL): https://www.bazl.admin.ch/bazl/de/home/themen/geoinformation_statistik/statistik/statistische_datenlieferungen.html"
   ]
  },
  {
   "cell_type": "code",
   "execution_count": null,
   "metadata": {},
   "outputs": [
    {
     "name": "stderr",
     "output_type": "stream",
     "text": [
      "c:\\Users\\fusg\\Documents\\Lommis_App\\.venv\\Lib\\site-packages\\tqdm\\auto.py:21: TqdmWarning: IProgress not found. Please update jupyter and ipywidgets. See https://ipywidgets.readthedocs.io/en/stable/user_install.html\n",
      "  from .autonotebook import tqdm as notebook_tqdm\n"
     ]
    }
   ],
   "source": [
    "## IMPORT LIBRARIES ##\n",
    "import os\n",
    "import lommis_func\n",
    "import warnings\n",
    "import numpy as np\n",
    "import shutil\n",
    "from openpyxl import load_workbook\n",
    "from openpyxl.styles import Alignment\n",
    "from datetime import datetime, timedelta\n",
    "from traffic.core import Traffic, Flight\n",
    "from traffic.data import airports, opensky\n",
    "warnings.simplefilter(\"ignore\")"
   ]
  },
  {
   "cell_type": "code",
   "execution_count": 2,
   "metadata": {},
   "outputs": [],
   "source": [
    "# Year and Month of the fetching data\n",
    "year = 2025\n",
    "month = 1"
   ]
  },
  {
   "cell_type": "code",
   "execution_count": null,
   "metadata": {},
   "outputs": [],
   "source": [
    "## FETCH DATA FROM LOMMIS' AIRFIELD ##\n",
    "\n",
    "# Define the start date\n",
    "start_date = datetime.strptime(f\"{year}-{month}-01 00:00\", \"%Y-%m-%d %H:%M\")\n",
    " \n",
    "# Number of iterations\n",
    "num_iterations = 10\n",
    "\n",
    "# Define the parquet directory path\n",
    "folder_name = f\"{month:02d}{year}\"\n",
    "parquet_dir_path = os.path.join(\"Flights/\", folder_name)\n",
    "\n",
    "os.makedirs(parquet_dir_path, exist_ok=True)\n",
    "# Delete all contents of the parquet directory if any exists\n",
    "# if os.path.exists(parquet_dir_path):\n",
    "#     shutil.rmtree(parquet_dir_path)\n",
    "#     os.makedirs(parquet_dir_path)\n",
    "#     print(f\"Deleted all contents in the directory: {parquet_dir_path}\")\n",
    " \n",
    "for i in range(num_iterations):\n",
    "    # Generate stop date\n",
    "    stop_date = start_date + timedelta(days=1)\n",
    " \n",
    "    # Format both dates as strings in the desired format\n",
    "    start_str = start_date.strftime(\"%Y-%m-%d %H:%M\")\n",
    "    stop_str = stop_date.strftime(\"%Y-%m-%d %H:%M\")\n",
    "    print(f\"Fetching data for Start: {start_str}, Stop: {stop_str}\")\n",
    "    \n",
    "    # fetch data\n",
    "    trajs = opensky.history(\n",
    "        start = start_str,\n",
    "        stop = stop_str,\n",
    "        airport = \"LSZT\",\n",
    "        selected_columns=(\n",
    "        'time', 'icao24', 'callsign', 'lat', 'lon', 'heading', 'baroaltitude', 'velocity', 'vertrate'\n",
    "        ),\n",
    "    )\n",
    "    if trajs is not None:\n",
    "        file_date = start_date.strftime(\"%Y-%m-%d\")\n",
    "        trajs.to_parquet(os.path.join(parquet_dir_path, f\"{file_date}.parquet\"))\n",
    " \n",
    "    # Update the start date\n",
    "    start_date += timedelta(days=1)"
   ]
  },
  {
   "cell_type": "code",
   "execution_count": 3,
   "metadata": {},
   "outputs": [],
   "source": [
    "## RETRIEVE FETCHED DATA FROM FOLDER ##\n",
    "flights = []\n",
    "folder_name = f\"{month:02d}{year}\"\n",
    "folder_path = os.path.join(\"Flights/\", folder_name)\n",
    "for filename in os.listdir(folder_path):\n",
    "\n",
    "    if filename.endswith(\".parquet\"):\n",
    "        file_path = os.path.join(folder_path, filename)\n",
    "        flight = Flight.from_file(file_path)\n",
    "        flights.append(flight)\n",
    "\n",
    "traff_set = Traffic.from_flights(flights)\n",
    "\n",
    "#convert flights Timestamp to 'datetime64'\n",
    "traff_set.data['timestamp'] = traff_set.data['timestamp'].dt.tz_convert(None).astype('datetime64[ns]')\n",
    "traff_set.data['timestamp'] = traff_set.data['timestamp'].dt.tz_localize('UTC')"
   ]
  },
  {
   "cell_type": "code",
   "execution_count": 4,
   "metadata": {},
   "outputs": [
    {
     "name": "stdout",
     "output_type": "stream",
     "text": [
      "Total flights kept: 28\n"
     ]
    }
   ],
   "source": [
    "## FILTERING FLIGHTS ##\n",
    "from traffic.core.mixins import PointMixin\n",
    "extreme1 = PointMixin()\n",
    "extreme2 = PointMixin()\n",
    "extreme1.latitude = 47.5257\n",
    "extreme1.longitude = 9.0068\n",
    "extreme2.latitude = 47.5233\n",
    "extreme2.longitude = 8.9996\n",
    "\n",
    "center = PointMixin()\n",
    "center.latitude = (extreme1.latitude + extreme2.latitude) / 2\n",
    "center.longitude = (extreme1.longitude + extreme2.longitude) / 2\n",
    "\n",
    "filtered_flights = []\n",
    "numeric_columns = [\"latitude\", \"longitude\", \"track\", \"altitude\", \"groundspeed\", \"vertical_rate\"]\n",
    "\n",
    "for flight in traff_set:\n",
    "    if flight.data[numeric_columns].isna().all().all():\n",
    "        continue\n",
    "    \n",
    "    flight.data[numeric_columns] = flight.data[numeric_columns].ffill().bfill()\n",
    "\n",
    "    if any((flight.data[numeric_columns] == 0).all()):\n",
    "        continue\n",
    "    \n",
    "    if flight.data.dropna(subset=numeric_columns).empty:\n",
    "        continue\n",
    "\n",
    "    dist = np.array(flight.distance(center).data['distance'])\n",
    "    if np.min(dist) > 1:  # if minimum distance is greater than 1 NM (not even close to airport)\n",
    "        continue \n",
    "    \n",
    "    filtered_flights.append(flight)\n",
    "\n",
    "traff_set_filtered = Traffic.from_flights(filtered_flights)\n",
    "print(f\"Total flights kept: {len(traff_set_filtered)}\")"
   ]
  },
  {
   "cell_type": "code",
   "execution_count": 5,
   "metadata": {},
   "outputs": [],
   "source": [
    "## ANALYZE FILTERED FLIGHTS AND CREATE DATA LIST ##\n",
    "flight_data = []\n",
    "for flight in traff_set_filtered:\n",
    "    day = flight.data.timestamp.iloc[0].strftime(\"%d\")\n",
    "    \n",
    "    lommis_func.analyze_flight(flight, airports[\"LSZT\"], flight_data, [day, month, year], debug = False)\n",
    "\n",
    "# sort columns by day and time\n",
    "flight_data.sort(\n",
    "    key=lambda row: (\n",
    "        int(row[1]),\n",
    "        datetime.strptime(row[4], \"%H%M\")\n",
    "    )\n",
    ")"
   ]
  },
  {
   "cell_type": "code",
   "execution_count": 6,
   "metadata": {},
   "outputs": [
    {
     "name": "stdout",
     "output_type": "stream",
     "text": [
      "Modified Excel file saved as: ARP_LSZT_012025.xlsx\n"
     ]
    }
   ],
   "source": [
    "## LOAD EXCEL TEMPLATE AND FILL IT OUT WITH NEW DATA ##\n",
    "file_path = \"Excel/template/template.xlsx\"\n",
    "wb = load_workbook(file_path)\n",
    "\n",
    "ws_title = wb[\"TITLE\"]\n",
    "\n",
    "for row in ws_title.iter_rows():\n",
    "    for cell in row:\n",
    "        if cell.value == \"Year\":\n",
    "            ws_title.cell(row=cell.row, column=cell.column + 2, value=year)\n",
    "        elif cell.value == \"Period\":\n",
    "            ws_title.cell(row=cell.row, column=cell.column + 2, value=month)\n",
    "\n",
    "ws_data = wb[\"DATA\"]\n",
    "\n",
    "center_alignment = Alignment(horizontal=\"center\", vertical=\"center\")\n",
    "for row in flight_data:\n",
    "    ws_data.append(row)\n",
    "    new_row_idx = ws_data.max_row\n",
    "    for col_idx in range(1, len(row) + 1):\n",
    "        cell = ws_data.cell(row=new_row_idx, column=col_idx)\n",
    "        cell.alignment = center_alignment\n",
    "\n",
    "new_filename = f\"ARP_LSZT_{month:02d}{year}.xlsx\"\n",
    "new_file_path = os.path.join(\"Excel/\", new_filename)\n",
    "\n",
    "wb.save(new_file_path)\n",
    "print(f\"Modified Excel file saved as: {new_filename}\")"
   ]
  }
 ],
 "metadata": {
  "kernelspec": {
   "display_name": ".venv",
   "language": "python",
   "name": "python3"
  },
  "language_info": {
   "codemirror_mode": {
    "name": "ipython",
    "version": 3
   },
   "file_extension": ".py",
   "mimetype": "text/x-python",
   "name": "python",
   "nbconvert_exporter": "python",
   "pygments_lexer": "ipython3",
   "version": "3.12.3"
  }
 },
 "nbformat": 4,
 "nbformat_minor": 2
}
